{
  "nbformat": 4,
  "nbformat_minor": 0,
  "metadata": {
    "colab": {
      "provenance": [],
      "mount_file_id": "1VyQ24YmtFRBklk-ZrLnZlhJUh2W9aixs",
      "authorship_tag": "ABX9TyOT7wUqvxzf4RtooF5zS3ZQ",
      "include_colab_link": true
    },
    "kernelspec": {
      "name": "python3",
      "display_name": "Python 3"
    },
    "language_info": {
      "name": "python"
    }
  },
  "cells": [
    {
      "cell_type": "markdown",
      "metadata": {
        "id": "view-in-github",
        "colab_type": "text"
      },
      "source": [
        "<a href=\"https://colab.research.google.com/github/Jerold-Callistus-Raj/Random_Username_Gen/blob/main/Random_Username_Generator.ipynb\" target=\"_parent\"><img src=\"https://colab.research.google.com/assets/colab-badge.svg\" alt=\"Open In Colab\"/></a>"
      ]
    },
    {
      "cell_type": "markdown",
      "source": [
        "**Objective :**\n",
        "The goal of this project is to create a Python program that generates unique and fun usernames suitable for social media or gaming platforms. This project will help you practice basic Python concepts such as working with lists, randomization and file handling."
      ],
      "metadata": {
        "id": "wChRYLGZEG3h"
      }
    },
    {
      "cell_type": "markdown",
      "source": [
        "Coding:"
      ],
      "metadata": {
        "id": "lOd7dUasFzsV"
      }
    },
    {
      "cell_type": "markdown",
      "source": [
        "Import the required python modules"
      ],
      "metadata": {
        "id": "auWutxXjHwXW"
      }
    },
    {
      "cell_type": "code",
      "source": [
        "import random\n",
        "import pandas as pd\n",
        "import numpy as np"
      ],
      "metadata": {
        "id": "DIvhBJKaGsYi"
      },
      "execution_count": null,
      "outputs": []
    },
    {
      "cell_type": "markdown",
      "source": [
        "1 . Create adjectivs and nouns in a List."
      ],
      "metadata": {
        "id": "pGN8sE1cZVTa"
      }
    },
    {
      "cell_type": "code",
      "source": [
        "adjectives = ['Cool','Happy','Fierce','Clever','Brave','Mighty','Swift','Jolly','Bright','Silly']\n",
        "nouns = ['Tiger','Dragon','Panther','Falcon','Wolf','Phoenix','Leopard','Bear','Eagle','Lion']\n",
        "special_characters = ['~','!','@','#','$','%','^','&','*','(',')','_','+','-','=','{','}','[',']',':',';','\"',\"'\",'<',',','>','.','?','/',\"|\"]"
      ],
      "metadata": {
        "id": "R1aPlhfkZWO_"
      },
      "execution_count": null,
      "outputs": []
    },
    {
      "cell_type": "markdown",
      "source": [
        "2. Customization Options\n",
        "- Allow users to include numbers or special characters in the generated usernames.\n",
        "- Optionally set the length or structure of the usernames."
      ],
      "metadata": {
        "id": "J16dEYbozGyO"
      }
    },
    {
      "cell_type": "code",
      "source": [
        "def usernames():\n",
        "  try:\n",
        "    try:\n",
        "      print('Enter only numerical value for the below statement.\\n\\n ')\n",
        "      username_count = int(input(\"How many usernames are needed to be generated : \"))\n",
        "    except:\n",
        "      print('Error happened. Please try to enter appropriate value')\n",
        "    try:\n",
        "      print('\\nEnter only \"Y\" or \"N\" value for the below statement.\\n\\n ')\n",
        "      q1 = input('Do you want to include special charaters in the username (Y/N) ?  ')\n",
        "    except:\n",
        "      print('Error happened. Please try to enter appropriate value/n')\n",
        "    user_names=[]\n",
        "    q1 = q1.lower()\n",
        "    for i in range(username_count):\n",
        "      adjective = random.choice(adjectives)\n",
        "      noun = random.choice(nouns)\n",
        "      number = random.randint(10,9999)\n",
        "      special_character = random.choice(special_characters)\n",
        "      #print(adjective+noun+str(number))\n",
        "      if q1=='Y' or q1=='y':\n",
        "        #username = f\"{adjective}{noun}{special_character}{number}\"\n",
        "        trickname = [noun,special_character,str(number)]\n",
        "        random.shuffle(trickname)\n",
        "        trickname = ''.join(trickname)\n",
        "        #print(trickname)\n",
        "        username = f\"{adjective}{trickname}\"\n",
        "        #print(username)\n",
        "        user_names.append(username)\n",
        "      else:\n",
        "        trickname = [noun,str(number)]\n",
        "        random.shuffle(trickname)\n",
        "        trickname = ''.join(trickname)\n",
        "        #print(trickname)\n",
        "        username = f\"{adjective}{trickname}\"\n",
        "        #print(username)\n",
        "        user_names.append(username)\n",
        "    df_usernames = pd.DataFrame(user_names,columns=['Random Username Generated'])\n",
        "    #df_usernames.columns = ['Random Username Generated']\n",
        "    print(df_usernames)\n",
        "    return(user_names)\n",
        "  except (RuntimeError, TypeError, NameError):\n",
        "    print(\"Try to enter the values appropriately as required\")"
      ],
      "metadata": {
        "id": "j92AMBNRiDn4"
      },
      "execution_count": null,
      "outputs": []
    },
    {
      "cell_type": "code",
      "source": [
        "def save_usernames(user_names,filename='generated_usernames.txt',format='newline'):\n",
        "  try:\n",
        "    with open(filename,'w') as f:\n",
        "      if format==\"newline\":\n",
        "        for usern in user_names:\n",
        "          f.write(usern + \"\\n\")\n",
        "      elif format==\"comma\":\n",
        "        f.write(\",\".join(user_names))\n",
        "      else:\n",
        "        raise ValueError(\"Invalid format specified. Choose 'newline' or 'comma'\")\n",
        "    print(f\"Usernames saved to {filename}\")\n",
        "  except Exception as e:\n",
        "    print(f\"An error occured : {e}\")"
      ],
      "metadata": {
        "id": "T0sPF8KyRTB3"
      },
      "execution_count": null,
      "outputs": []
    },
    {
      "cell_type": "code",
      "source": [
        "def random_username_gen():\n",
        "  save_usernames(usernames())"
      ],
      "metadata": {
        "id": "i7lkTxqxRXzL"
      },
      "execution_count": null,
      "outputs": []
    },
    {
      "cell_type": "code",
      "source": [
        "random_username_gen()"
      ],
      "metadata": {
        "colab": {
          "base_uri": "https://localhost:8080/"
        },
        "id": "tLerWoyNdwGj",
        "outputId": "d556b572-dbe4-49c6-8a57-cd553c69458f"
      },
      "execution_count": null,
      "outputs": [
        {
          "output_type": "stream",
          "name": "stdout",
          "text": [
            "Enter only numerical value for the below statement.\n",
            "\n",
            " \n",
            "How many usernames are needed to be generated : 4\n",
            "\n",
            "Enter only \"Y\" or \"N\" value for the below statement.\n",
            "\n",
            " \n",
            "Do you want to include special charaters in the username (Y/N) ?  y\n",
            "  Random Username Generated\n",
            "0          Bright6461Tiger=\n",
            "1        Fierce5073Phoenix/\n",
            "2           Happy5475$Tiger\n",
            "3        FierceLeopard*4465\n",
            "Usernames saved to generated_usernames.txt\n"
          ]
        }
      ]
    }
  ]
}